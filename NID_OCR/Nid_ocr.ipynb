{
  "cells": [
    {
      "cell_type": "code",
      "execution_count": null,
      "metadata": {
        "colab": {
          "base_uri": "https://localhost:8080/"
        },
        "id": "QaHG3MAuHC8z",
        "outputId": "68aaf897-c8e7-4895-b0fb-b120f4902815"
      },
      "outputs": [
        {
          "output_type": "stream",
          "name": "stdout",
          "text": [
            "Wed Jun 14 08:54:42 2023       \n",
            "+-----------------------------------------------------------------------------+\n",
            "| NVIDIA-SMI 525.85.12    Driver Version: 525.85.12    CUDA Version: 12.0     |\n",
            "|-------------------------------+----------------------+----------------------+\n",
            "| GPU  Name        Persistence-M| Bus-Id        Disp.A | Volatile Uncorr. ECC |\n",
            "| Fan  Temp  Perf  Pwr:Usage/Cap|         Memory-Usage | GPU-Util  Compute M. |\n",
            "|                               |                      |               MIG M. |\n",
            "|===============================+======================+======================|\n",
            "|   0  Tesla T4            Off  | 00000000:00:04.0 Off |                    0 |\n",
            "| N/A   67C    P0    31W /  70W |   1957MiB / 15360MiB |      0%      Default |\n",
            "|                               |                      |                  N/A |\n",
            "+-------------------------------+----------------------+----------------------+\n",
            "                                                                               \n",
            "+-----------------------------------------------------------------------------+\n",
            "| Processes:                                                                  |\n",
            "|  GPU   GI   CI        PID   Type   Process name                  GPU Memory |\n",
            "|        ID   ID                                                   Usage      |\n",
            "|=============================================================================|\n",
            "+-----------------------------------------------------------------------------+\n"
          ]
        }
      ],
      "source": [
        "gpu_info = !nvidia-smi\n",
        "gpu_info = '\\n'.join(gpu_info)\n",
        "if gpu_info.find('failed') >= 0:\n",
        "  print('Not connected to a GPU')\n",
        "else:\n",
        "  print(gpu_info)"
      ]
    },
    {
      "cell_type": "code",
      "execution_count": null,
      "metadata": {
        "id": "j8VOUv0DH0Cr",
        "colab": {
          "base_uri": "https://localhost:8080/"
        },
        "outputId": "a3bf18a2-234c-45e9-d693-35636354cd2e"
      },
      "outputs": [
        {
          "output_type": "stream",
          "name": "stdout",
          "text": [
            "Mounted at /content/drive\n"
          ]
        }
      ],
      "source": [
        "from google.colab import drive\n",
        "drive.mount('/content/drive')"
      ]
    },
    {
      "cell_type": "code",
      "execution_count": null,
      "metadata": {
        "colab": {
          "base_uri": "https://localhost:8080/"
        },
        "id": "oLrcdaZwf-Ot",
        "outputId": "c20d4dda-bbfe-40a3-de5b-cc16cc54f282"
      },
      "outputs": [
        {
          "output_type": "stream",
          "name": "stdout",
          "text": [
            "Looking in indexes: https://pypi.org/simple, https://us-python.pkg.dev/colab-wheels/public/simple/\n",
            "\u001b[31mERROR: Could not find a version that satisfies the requirement cv2_imshow (from versions: none)\u001b[0m\u001b[31m\n",
            "\u001b[0m\u001b[31mERROR: No matching distribution found for cv2_imshow\u001b[0m\u001b[31m\n",
            "\u001b[0mLooking in indexes: https://pypi.org/simple, https://us-python.pkg.dev/colab-wheels/public/simple/\n",
            "Requirement already satisfied: paddlepaddle in /usr/local/lib/python3.10/dist-packages (2.4.2)\n",
            "Requirement already satisfied: requests>=2.20.0 in /usr/local/lib/python3.10/dist-packages (from paddlepaddle) (2.27.1)\n",
            "Requirement already satisfied: numpy>=1.13 in /usr/local/lib/python3.10/dist-packages (from paddlepaddle) (1.22.4)\n",
            "Requirement already satisfied: protobuf<=3.20.0,>=3.1.0 in /usr/local/lib/python3.10/dist-packages (from paddlepaddle) (3.20.0)\n",
            "Requirement already satisfied: Pillow in /usr/local/lib/python3.10/dist-packages (from paddlepaddle) (8.4.0)\n",
            "Requirement already satisfied: six in /usr/local/lib/python3.10/dist-packages (from paddlepaddle) (1.16.0)\n",
            "Requirement already satisfied: decorator in /usr/local/lib/python3.10/dist-packages (from paddlepaddle) (4.4.2)\n",
            "Requirement already satisfied: astor in /usr/local/lib/python3.10/dist-packages (from paddlepaddle) (0.8.1)\n",
            "Requirement already satisfied: paddle-bfloat==0.1.7 in /usr/local/lib/python3.10/dist-packages (from paddlepaddle) (0.1.7)\n",
            "Requirement already satisfied: opt-einsum==3.3.0 in /usr/local/lib/python3.10/dist-packages (from paddlepaddle) (3.3.0)\n",
            "Requirement already satisfied: urllib3<1.27,>=1.21.1 in /usr/local/lib/python3.10/dist-packages (from requests>=2.20.0->paddlepaddle) (1.26.15)\n",
            "Requirement already satisfied: certifi>=2017.4.17 in /usr/local/lib/python3.10/dist-packages (from requests>=2.20.0->paddlepaddle) (2022.12.7)\n",
            "Requirement already satisfied: charset-normalizer~=2.0.0 in /usr/local/lib/python3.10/dist-packages (from requests>=2.20.0->paddlepaddle) (2.0.12)\n",
            "Requirement already satisfied: idna<4,>=2.5 in /usr/local/lib/python3.10/dist-packages (from requests>=2.20.0->paddlepaddle) (3.4)\n",
            "Looking in indexes: https://pypi.org/simple, https://us-python.pkg.dev/colab-wheels/public/simple/\n",
            "Requirement already satisfied: paddleocr in /usr/local/lib/python3.10/dist-packages (2.6.1.3)\n",
            "Requirement already satisfied: shapely in /usr/local/lib/python3.10/dist-packages (from paddleocr) (2.0.1)\n",
            "Requirement already satisfied: scikit-image in /usr/local/lib/python3.10/dist-packages (from paddleocr) (0.19.3)\n",
            "Requirement already satisfied: imgaug in /usr/local/lib/python3.10/dist-packages (from paddleocr) (0.4.0)\n",
            "Requirement already satisfied: pyclipper in /usr/local/lib/python3.10/dist-packages (from paddleocr) (1.3.0.post4)\n",
            "Requirement already satisfied: lmdb in /usr/local/lib/python3.10/dist-packages (from paddleocr) (1.4.1)\n",
            "Requirement already satisfied: tqdm in /usr/local/lib/python3.10/dist-packages (from paddleocr) (4.65.0)\n",
            "Requirement already satisfied: numpy in /usr/local/lib/python3.10/dist-packages (from paddleocr) (1.22.4)\n",
            "Requirement already satisfied: visualdl in /usr/local/lib/python3.10/dist-packages (from paddleocr) (2.5.3)\n",
            "Requirement already satisfied: rapidfuzz in /usr/local/lib/python3.10/dist-packages (from paddleocr) (3.1.1)\n",
            "Requirement already satisfied: opencv-python<=4.6.0.66 in /usr/local/lib/python3.10/dist-packages (from paddleocr) (4.6.0.66)\n",
            "Requirement already satisfied: opencv-contrib-python<=4.6.0.66 in /usr/local/lib/python3.10/dist-packages (from paddleocr) (4.6.0.66)\n",
            "Requirement already satisfied: cython in /usr/local/lib/python3.10/dist-packages (from paddleocr) (0.29.34)\n",
            "Requirement already satisfied: lxml in /usr/local/lib/python3.10/dist-packages (from paddleocr) (4.9.2)\n",
            "Requirement already satisfied: premailer in /usr/local/lib/python3.10/dist-packages (from paddleocr) (3.10.0)\n",
            "Requirement already satisfied: openpyxl in /usr/local/lib/python3.10/dist-packages (from paddleocr) (3.0.10)\n",
            "Requirement already satisfied: attrdict in /usr/local/lib/python3.10/dist-packages (from paddleocr) (2.0.1)\n",
            "Requirement already satisfied: PyMuPDF<1.21.0 in /usr/local/lib/python3.10/dist-packages (from paddleocr) (1.20.2)\n",
            "Requirement already satisfied: python-docx in /usr/local/lib/python3.10/dist-packages (from paddleocr) (0.8.11)\n",
            "Requirement already satisfied: beautifulsoup4 in /usr/local/lib/python3.10/dist-packages (from paddleocr) (4.11.2)\n",
            "Requirement already satisfied: fonttools>=4.24.0 in /usr/local/lib/python3.10/dist-packages (from paddleocr) (4.39.3)\n",
            "Requirement already satisfied: fire>=0.3.0 in /usr/local/lib/python3.10/dist-packages (from paddleocr) (0.5.0)\n",
            "Requirement already satisfied: pdf2docx in /usr/local/lib/python3.10/dist-packages (from paddleocr) (0.5.6)\n",
            "Requirement already satisfied: six in /usr/local/lib/python3.10/dist-packages (from fire>=0.3.0->paddleocr) (1.16.0)\n",
            "Requirement already satisfied: termcolor in /usr/local/lib/python3.10/dist-packages (from fire>=0.3.0->paddleocr) (2.3.0)\n",
            "Requirement already satisfied: soupsieve>1.2 in /usr/local/lib/python3.10/dist-packages (from beautifulsoup4->paddleocr) (2.4.1)\n",
            "Requirement already satisfied: scipy in /usr/local/lib/python3.10/dist-packages (from imgaug->paddleocr) (1.10.1)\n",
            "Requirement already satisfied: Pillow in /usr/local/lib/python3.10/dist-packages (from imgaug->paddleocr) (8.4.0)\n",
            "Requirement already satisfied: matplotlib in /usr/local/lib/python3.10/dist-packages (from imgaug->paddleocr) (3.7.1)\n",
            "Requirement already satisfied: imageio in /usr/local/lib/python3.10/dist-packages (from imgaug->paddleocr) (2.25.1)\n",
            "Requirement already satisfied: networkx>=2.2 in /usr/local/lib/python3.10/dist-packages (from scikit-image->paddleocr) (3.1)\n",
            "Requirement already satisfied: tifffile>=2019.7.26 in /usr/local/lib/python3.10/dist-packages (from scikit-image->paddleocr) (2023.4.12)\n",
            "Requirement already satisfied: PyWavelets>=1.1.1 in /usr/local/lib/python3.10/dist-packages (from scikit-image->paddleocr) (1.4.1)\n",
            "Requirement already satisfied: packaging>=20.0 in /usr/local/lib/python3.10/dist-packages (from scikit-image->paddleocr) (23.1)\n",
            "Requirement already satisfied: et-xmlfile in /usr/local/lib/python3.10/dist-packages (from openpyxl->paddleocr) (1.1.0)\n",
            "Requirement already satisfied: cssselect in /usr/local/lib/python3.10/dist-packages (from premailer->paddleocr) (1.2.0)\n",
            "Requirement already satisfied: cssutils in /usr/local/lib/python3.10/dist-packages (from premailer->paddleocr) (2.7.1)\n",
            "Requirement already satisfied: requests in /usr/local/lib/python3.10/dist-packages (from premailer->paddleocr) (2.27.1)\n",
            "Requirement already satisfied: cachetools in /usr/local/lib/python3.10/dist-packages (from premailer->paddleocr) (5.3.0)\n",
            "Requirement already satisfied: bce-python-sdk in /usr/local/lib/python3.10/dist-packages (from visualdl->paddleocr) (0.8.83)\n",
            "Requirement already satisfied: flask>=1.1.1 in /usr/local/lib/python3.10/dist-packages (from visualdl->paddleocr) (2.2.4)\n",
            "Requirement already satisfied: Flask-Babel>=3.0.0 in /usr/local/lib/python3.10/dist-packages (from visualdl->paddleocr) (3.1.0)\n",
            "Requirement already satisfied: protobuf>=3.20.0 in /usr/local/lib/python3.10/dist-packages (from visualdl->paddleocr) (3.20.0)\n",
            "Requirement already satisfied: pandas in /usr/local/lib/python3.10/dist-packages (from visualdl->paddleocr) (1.5.3)\n",
            "Requirement already satisfied: rarfile in /usr/local/lib/python3.10/dist-packages (from visualdl->paddleocr) (4.0)\n",
            "Requirement already satisfied: psutil in /usr/local/lib/python3.10/dist-packages (from visualdl->paddleocr) (5.9.5)\n",
            "Requirement already satisfied: Werkzeug>=2.2.2 in /usr/local/lib/python3.10/dist-packages (from flask>=1.1.1->visualdl->paddleocr) (2.3.0)\n",
            "Requirement already satisfied: Jinja2>=3.0 in /usr/local/lib/python3.10/dist-packages (from flask>=1.1.1->visualdl->paddleocr) (3.1.2)\n",
            "Requirement already satisfied: itsdangerous>=2.0 in /usr/local/lib/python3.10/dist-packages (from flask>=1.1.1->visualdl->paddleocr) (2.1.2)\n",
            "Requirement already satisfied: click>=8.0 in /usr/local/lib/python3.10/dist-packages (from flask>=1.1.1->visualdl->paddleocr) (8.1.3)\n",
            "Requirement already satisfied: Babel>=2.12 in /usr/local/lib/python3.10/dist-packages (from Flask-Babel>=3.0.0->visualdl->paddleocr) (2.12.1)\n",
            "Requirement already satisfied: pytz>=2022.7 in /usr/local/lib/python3.10/dist-packages (from Flask-Babel>=3.0.0->visualdl->paddleocr) (2022.7.1)\n",
            "Requirement already satisfied: pycryptodome>=3.8.0 in /usr/local/lib/python3.10/dist-packages (from bce-python-sdk->visualdl->paddleocr) (3.18.0)\n",
            "Requirement already satisfied: future>=0.6.0 in /usr/local/lib/python3.10/dist-packages (from bce-python-sdk->visualdl->paddleocr) (0.18.3)\n",
            "Requirement already satisfied: contourpy>=1.0.1 in /usr/local/lib/python3.10/dist-packages (from matplotlib->imgaug->paddleocr) (1.0.7)\n",
            "Requirement already satisfied: cycler>=0.10 in /usr/local/lib/python3.10/dist-packages (from matplotlib->imgaug->paddleocr) (0.11.0)\n",
            "Requirement already satisfied: kiwisolver>=1.0.1 in /usr/local/lib/python3.10/dist-packages (from matplotlib->imgaug->paddleocr) (1.4.4)\n",
            "Requirement already satisfied: pyparsing>=2.3.1 in /usr/local/lib/python3.10/dist-packages (from matplotlib->imgaug->paddleocr) (3.0.9)\n",
            "Requirement already satisfied: python-dateutil>=2.7 in /usr/local/lib/python3.10/dist-packages (from matplotlib->imgaug->paddleocr) (2.8.2)\n",
            "Requirement already satisfied: urllib3<1.27,>=1.21.1 in /usr/local/lib/python3.10/dist-packages (from requests->premailer->paddleocr) (1.26.15)\n",
            "Requirement already satisfied: certifi>=2017.4.17 in /usr/local/lib/python3.10/dist-packages (from requests->premailer->paddleocr) (2022.12.7)\n",
            "Requirement already satisfied: charset-normalizer~=2.0.0 in /usr/local/lib/python3.10/dist-packages (from requests->premailer->paddleocr) (2.0.12)\n",
            "Requirement already satisfied: idna<4,>=2.5 in /usr/local/lib/python3.10/dist-packages (from requests->premailer->paddleocr) (3.4)\n",
            "Requirement already satisfied: MarkupSafe>=2.0 in /usr/local/lib/python3.10/dist-packages (from Jinja2>=3.0->flask>=1.1.1->visualdl->paddleocr) (2.1.2)\n",
            "Looking in indexes: https://pypi.org/simple, https://us-python.pkg.dev/colab-wheels/public/simple/\n",
            "Requirement already satisfied: ultralytics in /usr/local/lib/python3.10/dist-packages (8.0.117)\n",
            "Requirement already satisfied: matplotlib>=3.2.2 in /usr/local/lib/python3.10/dist-packages (from ultralytics) (3.7.1)\n",
            "Requirement already satisfied: opencv-python>=4.6.0 in /usr/local/lib/python3.10/dist-packages (from ultralytics) (4.6.0.66)\n",
            "Requirement already satisfied: Pillow>=7.1.2 in /usr/local/lib/python3.10/dist-packages (from ultralytics) (8.4.0)\n",
            "Requirement already satisfied: PyYAML>=5.3.1 in /usr/local/lib/python3.10/dist-packages (from ultralytics) (6.0)\n",
            "Requirement already satisfied: requests>=2.23.0 in /usr/local/lib/python3.10/dist-packages (from ultralytics) (2.27.1)\n",
            "Requirement already satisfied: scipy>=1.4.1 in /usr/local/lib/python3.10/dist-packages (from ultralytics) (1.10.1)\n",
            "Requirement already satisfied: torch>=1.7.0 in /usr/local/lib/python3.10/dist-packages (from ultralytics) (2.0.1+cu118)\n",
            "Requirement already satisfied: torchvision>=0.8.1 in /usr/local/lib/python3.10/dist-packages (from ultralytics) (0.15.2+cu118)\n",
            "Requirement already satisfied: tqdm>=4.64.0 in /usr/local/lib/python3.10/dist-packages (from ultralytics) (4.65.0)\n",
            "Requirement already satisfied: pandas>=1.1.4 in /usr/local/lib/python3.10/dist-packages (from ultralytics) (1.5.3)\n",
            "Requirement already satisfied: seaborn>=0.11.0 in /usr/local/lib/python3.10/dist-packages (from ultralytics) (0.12.2)\n",
            "Requirement already satisfied: psutil in /usr/local/lib/python3.10/dist-packages (from ultralytics) (5.9.5)\n",
            "Requirement already satisfied: contourpy>=1.0.1 in /usr/local/lib/python3.10/dist-packages (from matplotlib>=3.2.2->ultralytics) (1.0.7)\n",
            "Requirement already satisfied: cycler>=0.10 in /usr/local/lib/python3.10/dist-packages (from matplotlib>=3.2.2->ultralytics) (0.11.0)\n",
            "Requirement already satisfied: fonttools>=4.22.0 in /usr/local/lib/python3.10/dist-packages (from matplotlib>=3.2.2->ultralytics) (4.39.3)\n",
            "Requirement already satisfied: kiwisolver>=1.0.1 in /usr/local/lib/python3.10/dist-packages (from matplotlib>=3.2.2->ultralytics) (1.4.4)\n",
            "Requirement already satisfied: numpy>=1.20 in /usr/local/lib/python3.10/dist-packages (from matplotlib>=3.2.2->ultralytics) (1.22.4)\n",
            "Requirement already satisfied: packaging>=20.0 in /usr/local/lib/python3.10/dist-packages (from matplotlib>=3.2.2->ultralytics) (23.1)\n",
            "Requirement already satisfied: pyparsing>=2.3.1 in /usr/local/lib/python3.10/dist-packages (from matplotlib>=3.2.2->ultralytics) (3.0.9)\n",
            "Requirement already satisfied: python-dateutil>=2.7 in /usr/local/lib/python3.10/dist-packages (from matplotlib>=3.2.2->ultralytics) (2.8.2)\n",
            "Requirement already satisfied: pytz>=2020.1 in /usr/local/lib/python3.10/dist-packages (from pandas>=1.1.4->ultralytics) (2022.7.1)\n",
            "Requirement already satisfied: urllib3<1.27,>=1.21.1 in /usr/local/lib/python3.10/dist-packages (from requests>=2.23.0->ultralytics) (1.26.15)\n",
            "Requirement already satisfied: certifi>=2017.4.17 in /usr/local/lib/python3.10/dist-packages (from requests>=2.23.0->ultralytics) (2022.12.7)\n",
            "Requirement already satisfied: charset-normalizer~=2.0.0 in /usr/local/lib/python3.10/dist-packages (from requests>=2.23.0->ultralytics) (2.0.12)\n",
            "Requirement already satisfied: idna<4,>=2.5 in /usr/local/lib/python3.10/dist-packages (from requests>=2.23.0->ultralytics) (3.4)\n",
            "Requirement already satisfied: filelock in /usr/local/lib/python3.10/dist-packages (from torch>=1.7.0->ultralytics) (3.12.0)\n",
            "Requirement already satisfied: typing-extensions in /usr/local/lib/python3.10/dist-packages (from torch>=1.7.0->ultralytics) (4.5.0)\n",
            "Requirement already satisfied: sympy in /usr/local/lib/python3.10/dist-packages (from torch>=1.7.0->ultralytics) (1.11.1)\n",
            "Requirement already satisfied: networkx in /usr/local/lib/python3.10/dist-packages (from torch>=1.7.0->ultralytics) (3.1)\n",
            "Requirement already satisfied: jinja2 in /usr/local/lib/python3.10/dist-packages (from torch>=1.7.0->ultralytics) (3.1.2)\n",
            "Requirement already satisfied: triton==2.0.0 in /usr/local/lib/python3.10/dist-packages (from torch>=1.7.0->ultralytics) (2.0.0)\n",
            "Requirement already satisfied: cmake in /usr/local/lib/python3.10/dist-packages (from triton==2.0.0->torch>=1.7.0->ultralytics) (3.25.2)\n",
            "Requirement already satisfied: lit in /usr/local/lib/python3.10/dist-packages (from triton==2.0.0->torch>=1.7.0->ultralytics) (16.0.5)\n",
            "Requirement already satisfied: six>=1.5 in /usr/local/lib/python3.10/dist-packages (from python-dateutil>=2.7->matplotlib>=3.2.2->ultralytics) (1.16.0)\n",
            "Requirement already satisfied: MarkupSafe>=2.0 in /usr/local/lib/python3.10/dist-packages (from jinja2->torch>=1.7.0->ultralytics) (2.1.2)\n",
            "Requirement already satisfied: mpmath>=0.19 in /usr/local/lib/python3.10/dist-packages (from sympy->torch>=1.7.0->ultralytics) (1.3.0)\n"
          ]
        }
      ],
      "source": [
        "!pip install cv2_imshow\n",
        "!pip install paddlepaddle\n",
        "# !python3 -m pip install paddlepaddle-gpu\n",
        "!pip install paddleocr\n",
        "!pip install ultralytics"
      ]
    },
    {
      "cell_type": "code",
      "source": [
        "from google.colab.patches import cv2_imshow\n",
        "from paddleocr import PaddleOCR\n",
        "import os\n",
        "import csv\n",
        "import requests\n",
        "import cv2\n",
        "\n",
        "import requests\n",
        "from PIL import Image\n",
        "import io\n",
        "from ultralytics import YOLO\n",
        "\n",
        "from datetime import datetime\n",
        "import pandas as pd\n",
        "import numpy as np\n",
        "import re\n",
        "from functools import reduce"
      ],
      "metadata": {
        "id": "tozMdNUkGiuD"
      },
      "execution_count": null,
      "outputs": []
    },
    {
      "cell_type": "code",
      "source": [
        "!pip freeze > requirements.txt\n",
        "!pip list --format=freeze > requirements.txt"
      ],
      "metadata": {
        "colab": {
          "base_uri": "https://localhost:8080/",
          "height": 392
        },
        "id": "7hxsjpPiHWgZ",
        "outputId": "4881ba79-0a73-470f-cc56-31898ac2e231"
      },
      "execution_count": null,
      "outputs": [
        {
          "output_type": "stream",
          "name": "stdout",
          "text": [
            "Looking in indexes: https://pypi.org/simple, https://us-python.pkg.dev/colab-wheels/public/simple/\n",
            "Requirement already satisfied: pipreqs in /usr/local/lib/python3.10/dist-packages (0.4.13)\n",
            "Requirement already satisfied: docopt in /usr/local/lib/python3.10/dist-packages (from pipreqs) (0.6.2)\n",
            "Requirement already satisfied: yarg in /usr/local/lib/python3.10/dist-packages (from pipreqs) (0.1.9)\n",
            "Requirement already satisfied: requests in /usr/local/lib/python3.10/dist-packages (from yarg->pipreqs) (2.27.1)\n",
            "Requirement already satisfied: urllib3<1.27,>=1.21.1 in /usr/local/lib/python3.10/dist-packages (from requests->yarg->pipreqs) (1.26.15)\n",
            "Requirement already satisfied: certifi>=2017.4.17 in /usr/local/lib/python3.10/dist-packages (from requests->yarg->pipreqs) (2022.12.7)\n",
            "Requirement already satisfied: charset-normalizer~=2.0.0 in /usr/local/lib/python3.10/dist-packages (from requests->yarg->pipreqs) (2.0.12)\n",
            "Requirement already satisfied: idna<4,>=2.5 in /usr/local/lib/python3.10/dist-packages (from requests->yarg->pipreqs) (3.4)\n"
          ]
        },
        {
          "output_type": "error",
          "ename": "AttributeError",
          "evalue": "ignored",
          "traceback": [
            "\u001b[0;31m---------------------------------------------------------------------------\u001b[0m",
            "\u001b[0;31mAttributeError\u001b[0m                            Traceback (most recent call last)",
            "\u001b[0;32m<ipython-input-157-6731c55bdb8e>\u001b[0m in \u001b[0;36m<cell line: 10>\u001b[0;34m()\u001b[0m\n\u001b[1;32m      8\u001b[0m \u001b[0;31m# Generate requirements.txt\u001b[0m\u001b[0;34m\u001b[0m\u001b[0;34m\u001b[0m\u001b[0m\n\u001b[1;32m      9\u001b[0m \u001b[0mpipreqs_path\u001b[0m \u001b[0;34m=\u001b[0m \u001b[0;34m'/usr/local/bin/pipreqs'\u001b[0m\u001b[0;34m\u001b[0m\u001b[0;34m\u001b[0m\u001b[0m\n\u001b[0;32m---> 10\u001b[0;31m \u001b[0mpipreqs\u001b[0m\u001b[0;34m.\u001b[0m\u001b[0mmain\u001b[0m\u001b[0;34m(\u001b[0m\u001b[0;34m[\u001b[0m\u001b[0mdirectory\u001b[0m\u001b[0;34m]\u001b[0m\u001b[0;34m)\u001b[0m\u001b[0;34m\u001b[0m\u001b[0;34m\u001b[0m\u001b[0m\n\u001b[0m\u001b[1;32m     11\u001b[0m \u001b[0;34m\u001b[0m\u001b[0m\n\u001b[1;32m     12\u001b[0m \u001b[0;31m# Specify the path for the generated requirements.txt file\u001b[0m\u001b[0;34m\u001b[0m\u001b[0;34m\u001b[0m\u001b[0m\n",
            "\u001b[0;31mAttributeError\u001b[0m: module 'pipreqs' has no attribute 'main'"
          ]
        }
      ]
    },
    {
      "cell_type": "code",
      "source": [
        "# Load a model\n",
        "best_model_path = '/content/drive/MyDrive/iFarmer/PROJECT-NID-OCR/runs/detect/train5/weights/best.pt'\n",
        "model = YOLO(best_model_path) # Load the pretrained model"
      ],
      "metadata": {
        "id": "AC5ULbZMUyHg"
      },
      "execution_count": null,
      "outputs": []
    },
    {
      "cell_type": "code",
      "source": [
        "def nid_ocr(url):\n",
        "    ocr = PaddleOCR(use_angle_cls=True, lang='en')\n",
        "    image_url = url\n",
        "    nid_conf = \"\"\n",
        "    dob_conf = \"\"\n",
        "\n",
        "    nid = \"\"\n",
        "    dob = \"\"\n",
        "    try:\n",
        "        # Download the image from the URL\n",
        "        response = requests.get(image_url)\n",
        "        image = Image.open(io.BytesIO(response.content))\n",
        "        results = model(image, save=False, save_crop=False)\n",
        "\n",
        "        image_np = np.array(image)\n",
        "        image = cv2.cvtColor(image_np, cv2.COLOR_RGB2BGR)\n",
        "\n",
        "        # print(image)\n",
        "\n",
        "        k = 0\n",
        "        l = 0\n",
        "\n",
        "        # Check if any objects are detected in the image\n",
        "        for result in results:\n",
        "            if image is not None:\n",
        "              # Image name extraction\n",
        "                # image_name = os.path.splitext(os.path.basename(result.path))[0]\n",
        "                boxes = result.boxes.cpu().numpy()\n",
        "\n",
        "                if len(boxes) >= 2:\n",
        "                    for box in boxes:\n",
        "                        region = box.xyxy[0].astype(int)\n",
        "\n",
        "                        cropped_image = image[region[1]:region[3], region[0]:region[2]]\n",
        "\n",
        "                        # Generate a unique filename for the cropped image\n",
        "                        class_val = box.cls\n",
        "                        # print(\"1\")\n",
        "\n",
        "                        # Generate a unique filename for the cropped image\n",
        "                        # filename = f\"{row['nid']}_class_{class_val[0]}.jpg\"\n",
        "                        # output_path = os.path.join(output_folder, filename)\n",
        "\n",
        "                        try:\n",
        "\n",
        "                            # Perform OCR on the cropped image\n",
        "                            ocr_results = ocr.ocr(cropped_image, cls=True)\n",
        "\n",
        "                            # Process OCR results\n",
        "                            if (class_val == 0) and (k < 1):\n",
        "                                nid_conf = str(ocr_results[0][0][1][1])\n",
        "                                nid = str(ocr_results[0][0][1][0])\n",
        "                                nid = re.sub(r'[^A-Za-z0-9]+', '', nid)\n",
        "                                k+=1\n",
        "                                # print(nid)\n",
        "\n",
        "                            elif (class_val) == 1 and (l < 1):\n",
        "                                dob_conf = str(ocr_results[0][0][1][1])\n",
        "                                dob = str(ocr_results[0][0][1][0])\n",
        "                                dob = re.sub(r'[^A-Za-z0-9]+', '', dob)\n",
        "                                l+=1\n",
        "\n",
        "\n",
        "                        except Exception as e:\n",
        "                            print(\"Can Not Process\")\n",
        "\n",
        "                else:\n",
        "                  print(\"Can Not Process\")\n",
        "            else:\n",
        "              print(\"Can Not Process\")\n",
        "\n",
        "    except Exception as e:\n",
        "        print(\"Can Not Process\")\n",
        "\n",
        "    return nid, dob, nid_conf, dob_conf"
      ],
      "metadata": {
        "id": "W5PZJfQVVhp_"
      },
      "execution_count": null,
      "outputs": []
    },
    {
      "cell_type": "code",
      "source": [
        "nid, dob, nid_conf, dob_conf = nid_ocr(\"https://ifarmer-sofol.s3-ap-southeast-1.amazonaws.com/farmers/nidfront/67135-মোছাঃ-রাবিয়া-খাতুন-nid-front.jpg\")\n",
        "# nid, dob, nid_conf, dob_conf = nid_ocr(\"https://ifarmer-sofol.s3-ap-southeast-1.amazonaws.com/farmers/nidfront/77559-রীনা-খান-‌-nid-front.jpg\")"
      ],
      "metadata": {
        "colab": {
          "base_uri": "https://localhost:8080/"
        },
        "id": "ec7c_asbN3ie",
        "outputId": "425a5fa8-a24f-4123-ceaa-d7e3cf525e8a"
      },
      "execution_count": null,
      "outputs": [
        {
          "output_type": "stream",
          "name": "stdout",
          "text": [
            "[2023/06/14 06:27:29] ppocr DEBUG: Namespace(help='==SUPPRESS==', use_gpu=False, use_xpu=False, use_npu=False, ir_optim=True, use_tensorrt=False, min_subgraph_size=15, precision='fp32', gpu_mem=500, image_dir=None, page_num=0, det_algorithm='DB', det_model_dir='/root/.paddleocr/whl/det/en/en_PP-OCRv3_det_infer', det_limit_side_len=960, det_limit_type='max', det_box_type='quad', det_db_thresh=0.3, det_db_box_thresh=0.6, det_db_unclip_ratio=1.5, max_batch_size=10, use_dilation=False, det_db_score_mode='fast', det_east_score_thresh=0.8, det_east_cover_thresh=0.1, det_east_nms_thresh=0.2, det_sast_score_thresh=0.5, det_sast_nms_thresh=0.2, det_pse_thresh=0, det_pse_box_thresh=0.85, det_pse_min_area=16, det_pse_scale=1, scales=[8, 16, 32], alpha=1.0, beta=1.0, fourier_degree=5, rec_algorithm='SVTR_LCNet', rec_model_dir='/root/.paddleocr/whl/rec/en/en_PP-OCRv3_rec_infer', rec_image_inverse=True, rec_image_shape='3, 48, 320', rec_batch_num=6, max_text_length=25, rec_char_dict_path='/usr/local/lib/python3.10/dist-packages/paddleocr/ppocr/utils/en_dict.txt', use_space_char=True, vis_font_path='./doc/fonts/simfang.ttf', drop_score=0.5, e2e_algorithm='PGNet', e2e_model_dir=None, e2e_limit_side_len=768, e2e_limit_type='max', e2e_pgnet_score_thresh=0.5, e2e_char_dict_path='./ppocr/utils/ic15_dict.txt', e2e_pgnet_valid_set='totaltext', e2e_pgnet_mode='fast', use_angle_cls=True, cls_model_dir='/root/.paddleocr/whl/cls/ch_ppocr_mobile_v2.0_cls_infer', cls_image_shape='3, 48, 192', label_list=['0', '180'], cls_batch_num=6, cls_thresh=0.9, enable_mkldnn=False, cpu_threads=10, use_pdserving=False, warmup=False, sr_model_dir=None, sr_image_shape='3, 32, 128', sr_batch_num=1, draw_img_save_dir='./inference_results', save_crop_res=False, crop_res_save_dir='./output', use_mp=False, total_process_num=1, process_id=0, benchmark=False, save_log_path='./log_output/', show_log=True, use_onnx=False, output='./output', table_max_len=488, table_algorithm='TableAttn', table_model_dir=None, merge_no_span_structure=True, table_char_dict_path=None, layout_model_dir=None, layout_dict_path=None, layout_score_threshold=0.5, layout_nms_threshold=0.5, kie_algorithm='LayoutXLM', ser_model_dir=None, re_model_dir=None, use_visual_backbone=True, ser_dict_path='../train_data/XFUND/class_list_xfun.txt', ocr_order_method=None, mode='structure', image_orientation=False, layout=True, table=True, ocr=True, recovery=False, use_pdf2docx_api=False, lang='en', det=True, rec=True, type='ocr', ocr_version='PP-OCRv3', structure_version='PP-StructureV2')\n"
          ]
        },
        {
          "output_type": "stream",
          "name": "stderr",
          "text": [
            "\n",
            "0: 448x640 1 NID, 1 DOB, 72.8ms\n",
            "Speed: 1.8ms preprocess, 72.8ms inference, 2.5ms postprocess per image at shape (1, 3, 640, 640)\n"
          ]
        },
        {
          "output_type": "stream",
          "name": "stdout",
          "text": [
            "[2023/06/14 06:27:32] ppocr DEBUG: dt_boxes num : 1, elapse : 0.012285232543945312\n",
            "[2023/06/14 06:27:32] ppocr DEBUG: cls num  : 1, elapse : 0.012003898620605469\n",
            "[2023/06/14 06:27:32] ppocr DEBUG: rec_res num  : 1, elapse : 0.09750223159790039\n",
            "[2023/06/14 06:27:32] ppocr DEBUG: dt_boxes num : 1, elapse : 0.010550975799560547\n",
            "[2023/06/14 06:27:32] ppocr DEBUG: cls num  : 1, elapse : 0.010571956634521484\n",
            "[2023/06/14 06:27:32] ppocr DEBUG: rec_res num  : 1, elapse : 0.08725118637084961\n"
          ]
        }
      ]
    },
    {
      "cell_type": "code",
      "source": [
        "print(nid + \"  \" + nid_conf + \"  \" + dob + \"  \" + dob_conf)"
      ],
      "metadata": {
        "colab": {
          "base_uri": "https://localhost:8080/"
        },
        "id": "yZXOi5E2OQh5",
        "outputId": "803fcdd9-f4e5-423a-9dc7-8c785626f2cc"
      },
      "execution_count": null,
      "outputs": [
        {
          "output_type": "stream",
          "name": "stdout",
          "text": [
            "8222177001  0.9305809140205383  03Feb1962  0.9651443958282471\n"
          ]
        }
      ]
    },
    {
      "cell_type": "code",
      "source": [
        "nid"
      ],
      "metadata": {
        "colab": {
          "base_uri": "https://localhost:8080/",
          "height": 35
        },
        "id": "HI_hwv5ZjMPr",
        "outputId": "bae4dae8-8118-4562-d7a5-da7c28e25ac9"
      },
      "execution_count": null,
      "outputs": [
        {
          "output_type": "execute_result",
          "data": {
            "text/plain": [
              "'8222177001'"
            ],
            "application/vnd.google.colaboratory.intrinsic+json": {
              "type": "string"
            }
          },
          "metadata": {},
          "execution_count": 46
        }
      ]
    },
    {
      "cell_type": "code",
      "source": [
        "def convert_date(date_str):\n",
        "    # Define the mapping of month abbreviations to month numbers\n",
        "    month_map = {\n",
        "        'Jan': '01',\n",
        "        'Feb': '02',\n",
        "        'Mar': '03',\n",
        "        'Apr': '04',\n",
        "        'May': '05',\n",
        "        'Jun': '06',\n",
        "        'Jul': '07',\n",
        "        'Aug': '08',\n",
        "        'Sep': '09',\n",
        "        'Oct': '10',\n",
        "        'Nov': '11',\n",
        "        'Dec': '12'\n",
        "    }\n",
        "\n",
        "    # Convert the date string to datetime object\n",
        "    date_obj = datetime.strptime(date_str, \"%d%b%Y\")\n",
        "\n",
        "    # Extract the year, month, and day components\n",
        "    year = date_obj.year\n",
        "    month = date_obj.month\n",
        "    day = date_obj.day\n",
        "\n",
        "    # Format the date components to have leading zeros if necessary\n",
        "    year_str = str(year)\n",
        "    month_str = month_map[date_obj.strftime(\"%b\")]\n",
        "    day_str = str(day).zfill(2)\n",
        "\n",
        "    # Create the formatted date string in \"YYYY-MM-DD\" format\n",
        "    formatted_date = f\"{year_str}-{month_str}-{day_str}\"\n",
        "\n",
        "    return formatted_date"
      ],
      "metadata": {
        "id": "pTG74lSCQHJw"
      },
      "execution_count": null,
      "outputs": []
    },
    {
      "cell_type": "code",
      "source": [
        "try:\n",
        "    formatted_date = convert_date(dob) #\"NA\"\n",
        "except:\n",
        "    formatted_date = \"NA\""
      ],
      "metadata": {
        "id": "Ia8tFvXxlYOD"
      },
      "execution_count": null,
      "outputs": []
    },
    {
      "cell_type": "code",
      "source": [
        "formatted_date"
      ],
      "metadata": {
        "colab": {
          "base_uri": "https://localhost:8080/",
          "height": 35
        },
        "id": "5PMIkt40oZNg",
        "outputId": "485e5945-15ab-438a-8ad2-986c2ed0b890"
      },
      "execution_count": null,
      "outputs": [
        {
          "output_type": "execute_result",
          "data": {
            "text/plain": [
              "'1962-02-03'"
            ],
            "application/vnd.google.colaboratory.intrinsic+json": {
              "type": "string"
            }
          },
          "metadata": {},
          "execution_count": 49
        }
      ]
    },
    {
      "cell_type": "code",
      "source": [
        "day = dob[:2]\n",
        "month = dob[2:-4]\n",
        "year = dob[-4:]"
      ],
      "metadata": {
        "id": "FBm05mnCpJB8"
      },
      "execution_count": null,
      "outputs": []
    },
    {
      "cell_type": "code",
      "source": [
        "day"
      ],
      "metadata": {
        "colab": {
          "base_uri": "https://localhost:8080/",
          "height": 35
        },
        "id": "clkMyCbcrGUj",
        "outputId": "64bafa77-7c80-41fc-b049-7aa5032e9cee"
      },
      "execution_count": null,
      "outputs": [
        {
          "output_type": "execute_result",
          "data": {
            "text/plain": [
              "'03'"
            ],
            "application/vnd.google.colaboratory.intrinsic+json": {
              "type": "string"
            }
          },
          "metadata": {},
          "execution_count": 51
        }
      ]
    },
    {
      "cell_type": "code",
      "source": [
        "def mon_start_end(month):\n",
        "    mon = month\n",
        "    if mon.startswith(\"Ja\"):    return '-01-'\n",
        "    elif mon.startswith((\"Fe\", \"FE\" ,\"fe\")):    return '-02-'\n",
        "    elif mon.startswith(\"Mar\"):    return '-03-'\n",
        "    elif mon.startswith((\"Ap\", \"ap\", \"AP\")):    return '-04-'\n",
        "    elif mon.startswith((\"MAY\", \"May\", \"MaY\")):   return '-05-'\n",
        "    elif mon.startswith((\"Jun\", \"JUN\", \"JUn\")):   return '-06-'\n",
        "    elif mon.startswith((\"Jul\", \"JUl\")):   return '-07-'\n",
        "    elif mon.startswith((\"Au\", \"AUg\", \"AuG\")):    return '-08-'\n",
        "    elif mon.startswith((\"Se\", \"se\", \"5e\", \"Sep\")):   return '-09-'\n",
        "    elif mon.startswith((\"Oc\",\"Oct\")):    return '-10-'\n",
        "    elif mon.startswith((\"No\", \"NO\", \"Nov\")):   return '-11-'\n",
        "    elif mon.startswith((\"De\", \"Dec\")):   return '-12-'\n",
        "\n",
        "    elif mon.endswith(\"an\"):   return '-01-'\n",
        "    elif mon.endswith(\"eb\"):   return '-02-'\n",
        "    elif mon.endswith(\"ar\"):   return '-03-'\n",
        "    elif mon.endswith(\"pr\"):   return '-04-'\n",
        "    elif mon.endswith(\"ay\"):   return '-05-'\n",
        "    elif mon.endswith(\"un\"):   return '-06-'\n",
        "    elif mon.endswith(\"ul\"):   return '-07-'\n",
        "    elif mon.endswith((\"ug\",\"0g\",\"Ug\")):   return '-08-'\n",
        "    elif mon.endswith(\"ep\"):   return '-09-'\n",
        "    elif mon.endswith(\"ct\"):   return '-10-'\n",
        "    elif mon.endswith(\"ov\"):   return '-11-'\n",
        "    elif mon.endswith(\"ec\"):   return '-12-'\n",
        "\n",
        "    elif mon.startswith((\"Ja\", \"J\")) and mon.endswith(\"an\"):    return '-01-'\n",
        "    elif mon.startswith((\"F\", \"Fe\")) and mon.endswith((\"eb\",\"b\")):    return '-02-'\n",
        "    elif mon.startswith((\"M\", \"Ma\")) and mon.endswith((\"ar\",\"r\")):    return '-03-'\n",
        "    elif mon.startswith((\"Ap\", \"A\")) and mon.endswith((\"r\",\"pr\")):    return '-04-'\n",
        "    elif mon.startswith((\"Ma\", \"M\")) and mon.endswith((\"ay\",\"y\")):    return '-05-'\n",
        "    elif mon.startswith((\"Ju\", \"J\")) and mon.endswith(\"un\"):    return '-06-'\n",
        "    elif mon.startswith((\"JU\", \"J\")) and mon.endswith((\"ul\",\"l\")):    return '-07-'\n",
        "    elif mon.startswith((\"Au\", \"A\", \"AU\")) and mon.endswith((\"ug\",\"g\",\"9\")):    return '-08-'\n",
        "    elif mon.startswith((\"Se\", \"S\", \"8\")) and mon.endswith((\"ep\",\"p\",\"0\")):    return '-09-'\n",
        "    elif mon.startswith((\"Oc\", \"O\")) and mon.endswith((\"ct\",\"t\")):    return '-10-'\n",
        "    elif mon.startswith((\"No\", \"N\")) and mon.endswith((\"ov\",\"v\")):    return '-11-'\n",
        "    elif mon.startswith((\"De\", \"D\")) and mon.endswith((\"ec,c\")):    return '-12-'\n",
        "\n",
        "    return None"
      ],
      "metadata": {
        "id": "4IjRoSXaQ8PN"
      },
      "execution_count": null,
      "outputs": []
    },
    {
      "cell_type": "code",
      "source": [
        "def convert_mispelled_string_to_month(mispelled_string):\n",
        "    # Define a mapping of correct month names to their abbreviations\n",
        "    month_mapping = {\n",
        "        '-01-': ['Jan', 'jan', 'an', 'Ja', '3an', 'Jar', 'lan', 'Jsn','oan','Jen','dan','Jah'],\n",
        "        '-02-': ['Feb', 'FoD','F6b','feb', 'F', 'Fb', 'Fe', 'eb', 'b', 'Fob', 'Fo', 'Feh', '5ob', 'Fab', 'Fa','Fsh','Fcb','Fo6','Fet','FeD','Fe6','Teb'],\n",
        "        '-03-': ['Mar', 'mar', 'Mer', 'Mr', 'ar', 'Man', 'Mor','Var','Mat'],\n",
        "        '-04-': ['Apr', 'apr', 'Ap','Ar','pr','Aor','ADr','Abr','AD','ApE','Apf','Apt','AOr', 'or', '4or', 'nr'],\n",
        "        '-05-': ['May', 'may', 'M5Y', 'Mey', 'My', 'ay', 'Mav', 'Vay', 'y', 'Moy', 'MaV', 'M99', 'M9v', 'av'],\n",
        "        '-06-': ['Jun', 'jun','Jum', 'un', 'vn', 'Jur','June','ur'],\n",
        "        '-07-': ['Jul', 'jul', 'Jol', 'Jl', 'JL', 'ul', 'Jut','JuI','Jui','3ul', '1ul', 'uT', 'JuT', 'J01', 'U1', 'u1'],\n",
        "        '-08-': ['Aug', 'Au', 'Auc','A0g', 'ug', 'Ag', 'Auq', 'AU', 'Aua', 'Auo', 'Aup', 'AU0','Aud','AUD','Aog','Ang','A00', '40S'],\n",
        "        '-09-': ['Sep', '8e','ep', 'Sp', 'Seo', 'Sop', '3ep', 'So', 'Sen', 'Sco', 'Sap', 'Se0','Scp','S0p', '5eP', '5op', 'en', '0p', 'S60'],\n",
        "        '-10-': ['Oct', 'oct', '0c', 'Oc','ct','Ot','t','6ct','Qct','Ocf','0ot','Oo','Ocl','0ct','Oot','Odt','Cct','Oet','5ct','00t','Act'],\n",
        "        '-11-': ['Nov', 'NOV' 'No', 'ov', 'N', 'Nv', 'oV', 'Noy','NoV','Jov','Nwv', 'Ncv', 'N6v'],\n",
        "        '-12-': ['Dec', '0ec','Jec', 'De', 'Dc', 'ec', 'Doc', 'Dac', 'Oe', 'Deo', 'DoC', 'DC','eC','D6','D6c','6c']\n",
        "    }\n",
        "\n",
        "    mon = mon_start_end(mispelled_string)\n",
        "    if mon != None:\n",
        "        return mon\n",
        "    for month, abbreviations in month_mapping.items():\n",
        "        # Check if the mispelled_string is in the list of abbreviations\n",
        "        if mispelled_string in abbreviations:\n",
        "            return month\n",
        "    for month, abbreviations in month_mapping.items():\n",
        "        # Check if the mispelled_string is in the list of abbreviations\n",
        "        for i in range(len(abbreviations)):\n",
        "            if abbreviations[i] in mispelled_string:\n",
        "                return month  # Return the correct month name\n",
        "\n",
        "    return None"
      ],
      "metadata": {
        "id": "sEcNztP9PzVO"
      },
      "execution_count": null,
      "outputs": []
    },
    {
      "cell_type": "code",
      "source": [
        "\"ab\" in \"abc\""
      ],
      "metadata": {
        "id": "k3VX24-2mWj3"
      },
      "execution_count": null,
      "outputs": []
    },
    {
      "cell_type": "code",
      "source": [
        "month = \"m1r\""
      ],
      "metadata": {
        "id": "7aZ7g1cVm2qs"
      },
      "execution_count": null,
      "outputs": []
    },
    {
      "cell_type": "code",
      "source": [
        "def mon_corr(month):\n",
        "    try:\n",
        "        key = month\n",
        "        if len(key) >=1:\n",
        "            month = convert_mispelled_string_to_month(key)\n",
        "            if month == None:\n",
        "                month = \"NA\"\n",
        "                return month\n",
        "            else:\n",
        "                return month\n",
        "        else:\n",
        "            month = \"NA\"\n",
        "            return month\n",
        "    except:\n",
        "        month = \"NA\"\n",
        "        return month"
      ],
      "metadata": {
        "id": "jH208vQ6lKT9"
      },
      "execution_count": null,
      "outputs": []
    },
    {
      "cell_type": "code",
      "source": [
        "mon_corr('111')"
      ],
      "metadata": {
        "colab": {
          "base_uri": "https://localhost:8080/",
          "height": 35
        },
        "id": "G5wCOyKRzDiC",
        "outputId": "e715af92-326c-45e0-8d49-e45b9c22dadb"
      },
      "execution_count": null,
      "outputs": [
        {
          "output_type": "execute_result",
          "data": {
            "text/plain": [
              "'NA'"
            ],
            "application/vnd.google.colaboratory.intrinsic+json": {
              "type": "string"
            }
          },
          "metadata": {},
          "execution_count": 142
        }
      ]
    },
    {
      "cell_type": "code",
      "source": [
        "def day_corr(day):\n",
        "    string = day\n",
        "    replacements = [\n",
        "        (\"T\", \"1\"), (\"O\", \"0\"), (\"o\", \"0\"), (\"Q\", \"0\"), (\"C\", \"0\"), (\"B\", \"8\"), (\"Z\", \"2\"), (\"U\", \"0\"), (\"n\", \"0\"),\n",
        "        (\"l\", \"1\"), (\"P\", \"2\"), (\"I\", \"1\"), (\"s\", \"8\"), (\"t\", \"1\")\n",
        "    ]\n",
        "\n",
        "    result = reduce(lambda x, y: x.replace(y[0], y[1]), replacements, string)\n",
        "    return result"
      ],
      "metadata": {
        "id": "5ihiuuWhlKRq"
      },
      "execution_count": null,
      "outputs": []
    },
    {
      "cell_type": "code",
      "source": [
        "day_corr('Pt')"
      ],
      "metadata": {
        "colab": {
          "base_uri": "https://localhost:8080/",
          "height": 35
        },
        "id": "JkZj_m3AquIQ",
        "outputId": "c7f318c1-318e-4727-927c-9a3e7940c6ef"
      },
      "execution_count": null,
      "outputs": [
        {
          "output_type": "execute_result",
          "data": {
            "text/plain": [
              "'21'"
            ],
            "application/vnd.google.colaboratory.intrinsic+json": {
              "type": "string"
            }
          },
          "metadata": {},
          "execution_count": 73
        }
      ]
    },
    {
      "cell_type": "code",
      "source": [
        "def year_corr(string):\n",
        "\n",
        "    try:\n",
        "        zero = [\"0\",\"C\",\"c\",\"O\",\"o\",\"D\"]\n",
        "        new_yr = \"\"\n",
        "        temp =\"\"\n",
        "        my_string = string\n",
        "        if len(my_string) != 4:\n",
        "            new_yr = \"NA\"\n",
        "            return new_yr\n",
        "        a,b,c,d = my_string\n",
        "        if (my_string[1] == \"1\" or my_string[2] == \"1\"):\n",
        "            new_yr = \"NA\"\n",
        "            return new_yr\n",
        "\n",
        "        elif (a == \"1\" or b == \"9\") and (c in zero):\n",
        "            new_yr = \"NA\"\n",
        "            return new_yr\n",
        "\n",
        "        elif not (my_string[1] == \"1\" or my_string[2] == \"1\"):\n",
        "            # if not my_string[:2].isdigit():\n",
        "            if my_string[-2:].isdigit():\n",
        "                if (my_string[-2:] > \"23\"):\n",
        "                    new_yr = \"19\" + my_string[-2:]\n",
        "                    return new_yr\n",
        "                elif my_string[-2:] < \"10\" and my_string[1]!=\"2\"::\n",
        "                    new_yr = \"20\" + my_string[-2:]\n",
        "                    return new_yr\n",
        "                else:\n",
        "                    new_yr = \"NA\"\n",
        "                    return new_yr\n",
        "            else:\n",
        "                if c == 't':    c = '6'\n",
        "                if c == 'g':    c = '9'\n",
        "                if d == 'a':    d = '8'\n",
        "                if d == 'g':    d = '9'\n",
        "                if a == 'j' or a == 'i' or a == 'I':    a = '1'\n",
        "                if a == '1':    b = '9'\n",
        "                if a == '2':    b = '0'\n",
        "                if b == '9':    a = '1'\n",
        "                if b == '0' and (c+d) < '10' :    a = '2'\n",
        "                if b == '0' and c == 'D':   c = '0'\n",
        "                if c == 'Q' and b != '0':    c = '9'\n",
        "                if c == 'Q' and b == '0':    c = '0'\n",
        "                if c == 'C' and b == '0':    c = '0'\n",
        "                if c == 'c' and b == '0':    c = '0'\n",
        "                if c == 'D':    c == '0'\n",
        "                if c == 'B' or c == 'x':    c == '8'\n",
        "                if d == 'D':    d == '0'\n",
        "                if d == 'B':    d == '8'\n",
        "                if d == 'C' or d == 'c':    d = '0'\n",
        "                if d == 'i' or d == 'I' or d == 'T':    d = '1'\n",
        "\n",
        "                temp = c+d\n",
        "                if temp.isdigit():\n",
        "                    if (temp > \"23\"):\n",
        "                        new_yr = \"19\" + temp\n",
        "                        return new_yr\n",
        "                    elif temp < \"10\":\n",
        "                        new_yr = \"20\" + temp\n",
        "                        return new_yr\n",
        "                else:\n",
        "                    new_yr = \"NA\"\n",
        "                    return new_yr\n",
        "    except:\n",
        "        new_yr = \"NA\"\n",
        "        return new_yr"
      ],
      "metadata": {
        "id": "MrjeKO4GrGYB"
      },
      "execution_count": null,
      "outputs": []
    },
    {
      "cell_type": "code",
      "source": [
        "def year_cor(year =''):\n",
        "    try:\n",
        "        string = year\n",
        "        # temp = \"\"\n",
        "        if (string.isdigit()) and (string > \"1920\") and (string < \"2008\"):\n",
        "            mod_year = string\n",
        "        else:\n",
        "            year = year_corr(string)\n",
        "\n",
        "            mod_year = year\n",
        "    except:\n",
        "        mod_year = \"NA\"\n",
        "\n",
        "    return mod_year"
      ],
      "metadata": {
        "id": "BWuFUyqcrGVm"
      },
      "execution_count": null,
      "outputs": []
    },
    {
      "cell_type": "code",
      "source": [
        "year_cor('10tD')"
      ],
      "metadata": {
        "colab": {
          "base_uri": "https://localhost:8080/",
          "height": 35
        },
        "id": "Ea0sv9ugrGTN",
        "outputId": "abca6396-b6a4-46ad-d066-c87425fe4910"
      },
      "execution_count": null,
      "outputs": [
        {
          "output_type": "execute_result",
          "data": {
            "text/plain": [
              "'NA'"
            ],
            "application/vnd.google.colaboratory.intrinsic+json": {
              "type": "string"
            }
          },
          "metadata": {},
          "execution_count": 96
        }
      ]
    },
    {
      "cell_type": "code",
      "source": [
        "def eight_dig(string):\n",
        "    if string[1] == \"O\":    df[\"DOB_Corr\"][i] = \"NA\"\n",
        "    elif"
      ],
      "metadata": {
        "id": "Cgcuy9VKrGQm"
      },
      "execution_count": null,
      "outputs": []
    },
    {
      "cell_type": "code",
      "source": [
        "def dob_cor(dob):\n",
        "    try:\n",
        "        string = dob\n",
        "\n",
        "        day = string[:2]\n",
        "        month = string[2:-4]\n",
        "        year = string[-4:]\n",
        "\n",
        "        month = mon_corr(month)\n",
        "        day = day_corr(day)\n",
        "        year = year_cor(year)\n",
        "\n",
        "        if (len(string) <=8) and (string[1] == \"O\"):\n",
        "            dob_corr = \"NA\"\n",
        "\n",
        "        elif day.isdigit() and year.isdigit() and (month != \"ND\" and month != \"NA\"):\n",
        "            a,b = str(day)\n",
        "            if (a+b) > \"31\":\n",
        "                if a == \"3\":\n",
        "                    day = \"0\"+b\n",
        "                    dob_corr = year + month + day\n",
        "                elif a == \"9\":\n",
        "                    day = \"0\"+b\n",
        "                    dob_corr = year + month + day\n",
        "                elif a == \"7\":\n",
        "                    day = \"2\"+b\n",
        "                    dob_corr = year + month + day\n",
        "            elif (a+b) <= \"00\":\n",
        "                dob_corr = \"NA\"\n",
        "            else:\n",
        "                dob_corr = year + month + day\n",
        "        else:\n",
        "            dob_corr = \"NA\"\n",
        "    except:\n",
        "        dob_corr = \"NA\"\n",
        "    return dob_corr"
      ],
      "metadata": {
        "id": "JBYHgvEIlKO0"
      },
      "execution_count": null,
      "outputs": []
    },
    {
      "cell_type": "code",
      "source": [],
      "metadata": {
        "id": "euAGc9jA1wuL"
      },
      "execution_count": null,
      "outputs": []
    },
    {
      "cell_type": "code",
      "source": [
        "dob_cor(\"11Oc2000\")"
      ],
      "metadata": {
        "id": "zjPZu5h4lKMU",
        "colab": {
          "base_uri": "https://localhost:8080/",
          "height": 35
        },
        "outputId": "4fa741c0-1fe6-4292-abff-e37dc171fed5"
      },
      "execution_count": null,
      "outputs": [
        {
          "output_type": "execute_result",
          "data": {
            "text/plain": [
              "'2000-10-11'"
            ],
            "application/vnd.google.colaboratory.intrinsic+json": {
              "type": "string"
            }
          },
          "metadata": {},
          "execution_count": 145
        }
      ]
    },
    {
      "cell_type": "code",
      "source": [
        "def nid_cor(nid):\n",
        "    string = nid\n",
        "    string = ''.join(map(lambda x: x.replace(\"U\", \"0\").replace(\"O\", \"0\").replace(\"o\", \"0\").replace(\"/\", \"7\").replace(\"G\", \"6\"), string))\n",
        "    if string.isdigit():\n",
        "        return string\n",
        "    return 'NA'"
      ],
      "metadata": {
        "id": "YPyxUtrJlKJY"
      },
      "execution_count": null,
      "outputs": []
    },
    {
      "cell_type": "code",
      "source": [
        "nid_cor('6666UOoG894U')"
      ],
      "metadata": {
        "id": "Ks8KZvVFlKGq",
        "colab": {
          "base_uri": "https://localhost:8080/",
          "height": 35
        },
        "outputId": "7396185f-e61a-466f-f8cd-1ecaa8f3a42c"
      },
      "execution_count": null,
      "outputs": [
        {
          "output_type": "execute_result",
          "data": {
            "text/plain": [
              "'666600068940'"
            ],
            "application/vnd.google.colaboratory.intrinsic+json": {
              "type": "string"
            }
          },
          "metadata": {},
          "execution_count": 119
        }
      ]
    },
    {
      "cell_type": "code",
      "source": [
        "def main(url):\n",
        "    nid, dob, nid_conf, dob_conf = nid_ocr(url)\n",
        "    nid_corr = nid_cor(nid)\n",
        "    try:\n",
        "        formatted_date = convert_date(dob) #\"NA\"\n",
        "    except:\n",
        "        formatted_date = dob_cor(dob)\n",
        "\n",
        "    if nid_corr == 'NA' or formatted_date == 'NA':\n",
        "        print(\"Give a clear image\")\n",
        "\n",
        "    else:\n",
        "        return nid_corr, nid_conf, formatted_date, dob_conf\n"
      ],
      "metadata": {
        "id": "2iVoN-UClJ-M"
      },
      "execution_count": null,
      "outputs": []
    },
    {
      "cell_type": "code",
      "source": [
        "main(\"https://ifarmer-sofol.s3-ap-southeast-1.amazonaws.com/farmers/nidfront/77559-%E0%A6%B0%E0%A7%80%E0%A6%A8%E0%A6%BE-%E0%A6%96%E0%A6%BE%E0%A6%A8-%E2%80%8C-nid-front.jpg?fbclid=IwAR0cC90GwCxt6GQKvHhDvlm8i9UT4eM5_vCzUbeLIYDSUTBR_5ksLadG3YI\")"
      ],
      "metadata": {
        "id": "CHkQcumXlJ7M",
        "colab": {
          "base_uri": "https://localhost:8080/"
        },
        "outputId": "1e269b92-e45b-4e1a-c3c0-54f3a356cf9d"
      },
      "execution_count": null,
      "outputs": [
        {
          "output_type": "stream",
          "name": "stdout",
          "text": [
            "[2023/06/14 07:51:52] ppocr DEBUG: Namespace(help='==SUPPRESS==', use_gpu=False, use_xpu=False, use_npu=False, ir_optim=True, use_tensorrt=False, min_subgraph_size=15, precision='fp32', gpu_mem=500, image_dir=None, page_num=0, det_algorithm='DB', det_model_dir='/root/.paddleocr/whl/det/en/en_PP-OCRv3_det_infer', det_limit_side_len=960, det_limit_type='max', det_box_type='quad', det_db_thresh=0.3, det_db_box_thresh=0.6, det_db_unclip_ratio=1.5, max_batch_size=10, use_dilation=False, det_db_score_mode='fast', det_east_score_thresh=0.8, det_east_cover_thresh=0.1, det_east_nms_thresh=0.2, det_sast_score_thresh=0.5, det_sast_nms_thresh=0.2, det_pse_thresh=0, det_pse_box_thresh=0.85, det_pse_min_area=16, det_pse_scale=1, scales=[8, 16, 32], alpha=1.0, beta=1.0, fourier_degree=5, rec_algorithm='SVTR_LCNet', rec_model_dir='/root/.paddleocr/whl/rec/en/en_PP-OCRv3_rec_infer', rec_image_inverse=True, rec_image_shape='3, 48, 320', rec_batch_num=6, max_text_length=25, rec_char_dict_path='/usr/local/lib/python3.10/dist-packages/paddleocr/ppocr/utils/en_dict.txt', use_space_char=True, vis_font_path='./doc/fonts/simfang.ttf', drop_score=0.5, e2e_algorithm='PGNet', e2e_model_dir=None, e2e_limit_side_len=768, e2e_limit_type='max', e2e_pgnet_score_thresh=0.5, e2e_char_dict_path='./ppocr/utils/ic15_dict.txt', e2e_pgnet_valid_set='totaltext', e2e_pgnet_mode='fast', use_angle_cls=True, cls_model_dir='/root/.paddleocr/whl/cls/ch_ppocr_mobile_v2.0_cls_infer', cls_image_shape='3, 48, 192', label_list=['0', '180'], cls_batch_num=6, cls_thresh=0.9, enable_mkldnn=False, cpu_threads=10, use_pdserving=False, warmup=False, sr_model_dir=None, sr_image_shape='3, 32, 128', sr_batch_num=1, draw_img_save_dir='./inference_results', save_crop_res=False, crop_res_save_dir='./output', use_mp=False, total_process_num=1, process_id=0, benchmark=False, save_log_path='./log_output/', show_log=True, use_onnx=False, output='./output', table_max_len=488, table_algorithm='TableAttn', table_model_dir=None, merge_no_span_structure=True, table_char_dict_path=None, layout_model_dir=None, layout_dict_path=None, layout_score_threshold=0.5, layout_nms_threshold=0.5, kie_algorithm='LayoutXLM', ser_model_dir=None, re_model_dir=None, use_visual_backbone=True, ser_dict_path='../train_data/XFUND/class_list_xfun.txt', ocr_order_method=None, mode='structure', image_orientation=False, layout=True, table=True, ocr=True, recovery=False, use_pdf2docx_api=False, lang='en', det=True, rec=True, type='ocr', ocr_version='PP-OCRv3', structure_version='PP-StructureV2')\n"
          ]
        },
        {
          "output_type": "stream",
          "name": "stderr",
          "text": [
            "\n",
            "0: 544x640 1 NID, 1 DOB, 89.2ms\n",
            "Speed: 2.6ms preprocess, 89.2ms inference, 2.4ms postprocess per image at shape (1, 3, 640, 640)\n"
          ]
        },
        {
          "output_type": "stream",
          "name": "stdout",
          "text": [
            "[2023/06/14 07:51:55] ppocr DEBUG: dt_boxes num : 1, elapse : 0.023537635803222656\n",
            "[2023/06/14 07:51:55] ppocr DEBUG: cls num  : 1, elapse : 0.011336088180541992\n",
            "[2023/06/14 07:51:55] ppocr DEBUG: rec_res num  : 1, elapse : 0.10026311874389648\n",
            "[2023/06/14 07:51:55] ppocr DEBUG: dt_boxes num : 1, elapse : 0.010281801223754883\n",
            "[2023/06/14 07:51:55] ppocr DEBUG: cls num  : 1, elapse : 0.009890079498291016\n",
            "[2023/06/14 07:51:55] ppocr DEBUG: rec_res num  : 1, elapse : 0.08348321914672852\n",
            "Can Not Process\n",
            "Give a clear image\n"
          ]
        }
      ]
    },
    {
      "cell_type": "code",
      "source": [],
      "metadata": {
        "id": "MtsNXHxr2hwi"
      },
      "execution_count": null,
      "outputs": []
    }
  ],
  "metadata": {
    "colab": {
      "machine_shape": "hm",
      "provenance": [],
      "gpuType": "T4"
    },
    "kernelspec": {
      "display_name": "Python 3",
      "name": "python3"
    },
    "language_info": {
      "name": "python"
    },
    "accelerator": "GPU"
  },
  "nbformat": 4,
  "nbformat_minor": 0
}
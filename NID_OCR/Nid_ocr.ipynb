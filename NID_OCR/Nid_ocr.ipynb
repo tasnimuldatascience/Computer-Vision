{
 "cells": [
  {
   "cell_type": "code",
   "execution_count": null,
   "metadata": {
    "colab": {
     "base_uri": "https://localhost:8080/"
    },
    "id": "QaHG3MAuHC8z",
    "outputId": "68aaf897-c8e7-4895-b0fb-b120f4902815"
   },
   "outputs": [],
   "source": [
    "gpu_info = !nvidia-smi\n",
    "gpu_info = '\\n'.join(gpu_info)\n",
    "if gpu_info.find('failed') >= 0:\n",
    "  print('Not connected to a GPU')\n",
    "else:\n",
    "  print(gpu_info)"
   ]
  },
  {
   "cell_type": "code",
   "execution_count": null,
   "metadata": {
    "colab": {
     "base_uri": "https://localhost:8080/"
    },
    "id": "j8VOUv0DH0Cr",
    "outputId": "a3bf18a2-234c-45e9-d693-35636354cd2e"
   },
   "outputs": [],
   "source": [
    "from google.colab import drive\n",
    "drive.mount('/content/drive')"
   ]
  },
  {
   "cell_type": "code",
   "execution_count": null,
   "metadata": {
    "colab": {
     "base_uri": "https://localhost:8080/"
    },
    "id": "oLrcdaZwf-Ot",
    "outputId": "c20d4dda-bbfe-40a3-de5b-cc16cc54f282"
   },
   "outputs": [],
   "source": [
    "!pip install cv2_imshow\n",
    "!pip install paddlepaddle\n",
    "# !python3 -m pip install paddlepaddle-gpu\n",
    "!pip install paddleocr\n",
    "!pip install ultralytics"
   ]
  },
  {
   "cell_type": "code",
   "execution_count": null,
   "metadata": {
    "id": "tozMdNUkGiuD"
   },
   "outputs": [],
   "source": [
    "from google.colab.patches import cv2_imshow\n",
    "from paddleocr import PaddleOCR\n",
    "import os\n",
    "import csv\n",
    "import requests\n",
    "import cv2\n",
    "\n",
    "import requests\n",
    "from PIL import Image\n",
    "import io\n",
    "from ultralytics import YOLO\n",
    "\n",
    "from datetime import datetime\n",
    "import pandas as pd\n",
    "import numpy as np\n",
    "import re\n",
    "from functools import reduce"
   ]
  },
  {
   "cell_type": "code",
   "execution_count": null,
   "metadata": {
    "colab": {
     "base_uri": "https://localhost:8080/",
     "height": 392
    },
    "id": "7hxsjpPiHWgZ",
    "outputId": "4881ba79-0a73-470f-cc56-31898ac2e231"
   },
   "outputs": [],
   "source": [
    "!pip freeze > requirements.txt\n",
    "!pip list --format=freeze > requirements.txt"
   ]
  },
  {
   "cell_type": "code",
   "execution_count": null,
   "metadata": {
    "id": "AC5ULbZMUyHg"
   },
   "outputs": [],
   "source": [
    "# Load a model\n",
    "best_model_path = '/content/drive/MyDrive/iFarmer/PROJECT-NID-OCR/runs/detect/train5/weights/best.pt'\n",
    "model = YOLO(best_model_path) # Load the pretrained model"
   ]
  },
  {
   "cell_type": "code",
   "execution_count": null,
   "metadata": {
    "id": "W5PZJfQVVhp_"
   },
   "outputs": [],
   "source": [
    "def nid_ocr(url):\n",
    "    ocr = PaddleOCR(use_angle_cls=True, lang='en')\n",
    "    image_url = url\n",
    "    nid_conf = \"\"\n",
    "    dob_conf = \"\"\n",
    "\n",
    "    nid = \"\"\n",
    "    dob = \"\"\n",
    "    try:\n",
    "        # Download the image from the URL\n",
    "        response = requests.get(image_url)\n",
    "        image = Image.open(io.BytesIO(response.content))\n",
    "        results = model(image, save=False, save_crop=False)\n",
    "\n",
    "        image_np = np.array(image)\n",
    "        image = cv2.cvtColor(image_np, cv2.COLOR_RGB2BGR)\n",
    "\n",
    "        # print(image)\n",
    "\n",
    "        k = 0\n",
    "        l = 0\n",
    "\n",
    "        # Check if any objects are detected in the image\n",
    "        for result in results:\n",
    "            if image is not None:\n",
    "              # Image name extraction\n",
    "                # image_name = os.path.splitext(os.path.basename(result.path))[0]\n",
    "                boxes = result.boxes.cpu().numpy()\n",
    "\n",
    "                if len(boxes) >= 2:\n",
    "                    for box in boxes:\n",
    "                        region = box.xyxy[0].astype(int)\n",
    "\n",
    "                        cropped_image = image[region[1]:region[3], region[0]:region[2]]\n",
    "\n",
    "                        # Generate a unique filename for the cropped image\n",
    "                        class_val = box.cls\n",
    "                        # print(\"1\")\n",
    "\n",
    "                        # Generate a unique filename for the cropped image\n",
    "                        # filename = f\"{row['nid']}_class_{class_val[0]}.jpg\"\n",
    "                        # output_path = os.path.join(output_folder, filename)\n",
    "\n",
    "                        try:\n",
    "\n",
    "                            # Perform OCR on the cropped image\n",
    "                            ocr_results = ocr.ocr(cropped_image, cls=True)\n",
    "\n",
    "                            # Process OCR results\n",
    "                            if (class_val == 0) and (k < 1):\n",
    "                                nid_conf = str(ocr_results[0][0][1][1])\n",
    "                                nid = str(ocr_results[0][0][1][0])\n",
    "                                nid = re.sub(r'[^A-Za-z0-9]+', '', nid)\n",
    "                                k+=1\n",
    "                                # print(nid)\n",
    "\n",
    "                            elif (class_val) == 1 and (l < 1):\n",
    "                                dob_conf = str(ocr_results[0][0][1][1])\n",
    "                                dob = str(ocr_results[0][0][1][0])\n",
    "                                dob = re.sub(r'[^A-Za-z0-9]+', '', dob)\n",
    "                                l+=1\n",
    "\n",
    "\n",
    "                        except Exception as e:\n",
    "                            print(\"Can Not Process\")\n",
    "\n",
    "                else:\n",
    "                  print(\"Can Not Process\")\n",
    "            else:\n",
    "              print(\"Can Not Process\")\n",
    "\n",
    "    except Exception as e:\n",
    "        print(\"Can Not Process\")\n",
    "\n",
    "    return nid, dob, nid_conf, dob_conf"
   ]
  },
  {
   "cell_type": "code",
   "execution_count": null,
   "metadata": {
    "id": "pTG74lSCQHJw"
   },
   "outputs": [],
   "source": [
    "def convert_date(date_str):\n",
    "    # Define the mapping of month abbreviations to month numbers\n",
    "    month_map = {\n",
    "        'Jan': '01',\n",
    "        'Feb': '02',\n",
    "        'Mar': '03',\n",
    "        'Apr': '04',\n",
    "        'May': '05',\n",
    "        'Jun': '06',\n",
    "        'Jul': '07',\n",
    "        'Aug': '08',\n",
    "        'Sep': '09',\n",
    "        'Oct': '10',\n",
    "        'Nov': '11',\n",
    "        'Dec': '12'\n",
    "    }\n",
    "\n",
    "    # Convert the date string to datetime object\n",
    "    date_obj = datetime.strptime(date_str, \"%d%b%Y\")\n",
    "\n",
    "    # Extract the year, month, and day components\n",
    "    year = date_obj.year\n",
    "    month = date_obj.month\n",
    "    day = date_obj.day\n",
    "\n",
    "    # Format the date components to have leading zeros if necessary\n",
    "    year_str = str(year)\n",
    "    month_str = month_map[date_obj.strftime(\"%b\")]\n",
    "    day_str = str(day).zfill(2)\n",
    "\n",
    "    # Create the formatted date string in \"YYYY-MM-DD\" format\n",
    "    formatted_date = f\"{year_str}-{month_str}-{day_str}\"\n",
    "\n",
    "    return formatted_date"
   ]
  },
  {
   "cell_type": "code",
   "execution_count": null,
   "metadata": {
    "id": "4IjRoSXaQ8PN"
   },
   "outputs": [],
   "source": [
    "def mon_start_end(month):\n",
    "    mon = month\n",
    "    if mon.startswith(\"Ja\"):    return '-01-'\n",
    "    elif mon.startswith((\"Fe\", \"FE\" ,\"fe\")):    return '-02-'\n",
    "    elif mon.startswith(\"Mar\"):    return '-03-'\n",
    "    elif mon.startswith((\"Ap\", \"ap\", \"AP\")):    return '-04-'\n",
    "    elif mon.startswith((\"MAY\", \"May\", \"MaY\")):   return '-05-'\n",
    "    elif mon.startswith((\"Jun\", \"JUN\", \"JUn\")):   return '-06-'\n",
    "    elif mon.startswith((\"Jul\", \"JUl\")):   return '-07-'\n",
    "    elif mon.startswith((\"Au\", \"AUg\", \"AuG\")):    return '-08-'\n",
    "    elif mon.startswith((\"Se\", \"se\", \"5e\", \"Sep\")):   return '-09-'\n",
    "    elif mon.startswith((\"Oc\",\"Oct\")):    return '-10-'\n",
    "    elif mon.startswith((\"No\", \"NO\", \"Nov\")):   return '-11-'\n",
    "    elif mon.startswith((\"De\", \"Dec\")):   return '-12-'\n",
    "\n",
    "    elif mon.endswith(\"an\"):   return '-01-'\n",
    "    elif mon.endswith(\"eb\"):   return '-02-'\n",
    "    elif mon.endswith(\"ar\"):   return '-03-'\n",
    "    elif mon.endswith(\"pr\"):   return '-04-'\n",
    "    elif mon.endswith(\"ay\"):   return '-05-'\n",
    "    elif mon.endswith(\"un\"):   return '-06-'\n",
    "    elif mon.endswith(\"ul\"):   return '-07-'\n",
    "    elif mon.endswith((\"ug\",\"0g\",\"Ug\")):   return '-08-'\n",
    "    elif mon.endswith(\"ep\"):   return '-09-'\n",
    "    elif mon.endswith(\"ct\"):   return '-10-'\n",
    "    elif mon.endswith(\"ov\"):   return '-11-'\n",
    "    elif mon.endswith(\"ec\"):   return '-12-'\n",
    "\n",
    "    elif mon.startswith((\"Ja\", \"J\")) and mon.endswith(\"an\"):    return '-01-'\n",
    "    elif mon.startswith((\"F\", \"Fe\")) and mon.endswith((\"eb\",\"b\")):    return '-02-'\n",
    "    elif mon.startswith((\"M\", \"Ma\")) and mon.endswith((\"ar\",\"r\")):    return '-03-'\n",
    "    elif mon.startswith((\"Ap\", \"A\")) and mon.endswith((\"r\",\"pr\")):    return '-04-'\n",
    "    elif mon.startswith((\"Ma\", \"M\")) and mon.endswith((\"ay\",\"y\")):    return '-05-'\n",
    "    elif mon.startswith((\"Ju\", \"J\")) and mon.endswith(\"un\"):    return '-06-'\n",
    "    elif mon.startswith((\"JU\", \"J\")) and mon.endswith((\"ul\",\"l\")):    return '-07-'\n",
    "    elif mon.startswith((\"Au\", \"A\", \"AU\")) and mon.endswith((\"ug\",\"g\",\"9\")):    return '-08-'\n",
    "    elif mon.startswith((\"Se\", \"S\", \"8\")) and mon.endswith((\"ep\",\"p\",\"0\")):    return '-09-'\n",
    "    elif mon.startswith((\"Oc\", \"O\")) and mon.endswith((\"ct\",\"t\")):    return '-10-'\n",
    "    elif mon.startswith((\"No\", \"N\")) and mon.endswith((\"ov\",\"v\")):    return '-11-'\n",
    "    elif mon.startswith((\"De\", \"D\")) and mon.endswith((\"ec,c\")):    return '-12-'\n",
    "\n",
    "    return None"
   ]
  },
  {
   "cell_type": "code",
   "execution_count": null,
   "metadata": {
    "id": "sEcNztP9PzVO"
   },
   "outputs": [],
   "source": [
    "def convert_mispelled_string_to_month(mispelled_string):\n",
    "    # Define a mapping of correct month names to their abbreviations\n",
    "    month_mapping = {\n",
    "        '-01-': ['Jan', 'jan', 'an', 'Ja', '3an', 'Jar', 'lan', 'Jsn','oan','Jen','dan','Jah'],\n",
    "        '-02-': ['Feb', 'FoD','F6b','feb', 'F', 'Fb', 'Fe', 'eb', 'b', 'Fob', 'Fo', 'Feh', '5ob', 'Fab', 'Fa','Fsh','Fcb','Fo6','Fet','FeD','Fe6','Teb'],\n",
    "        '-03-': ['Mar', 'mar', 'Mer', 'Mr', 'ar', 'Man', 'Mor','Var','Mat'],\n",
    "        '-04-': ['Apr', 'apr', 'Ap','Ar','pr','Aor','ADr','Abr','AD','ApE','Apf','Apt','AOr', 'or', '4or', 'nr'],\n",
    "        '-05-': ['May', 'may', 'M5Y', 'Mey', 'My', 'ay', 'Mav', 'Vay', 'y', 'Moy', 'MaV', 'M99', 'M9v', 'av'],\n",
    "        '-06-': ['Jun', 'jun','Jum', 'un', 'vn', 'Jur','June','ur'],\n",
    "        '-07-': ['Jul', 'jul', 'Jol', 'Jl', 'JL', 'ul', 'Jut','JuI','Jui','3ul', '1ul', 'uT', 'JuT', 'J01', 'U1', 'u1'],\n",
    "        '-08-': ['Aug', 'Au', 'Auc','A0g', 'ug', 'Ag', 'Auq', 'AU', 'Aua', 'Auo', 'Aup', 'AU0','Aud','AUD','Aog','Ang','A00', '40S'],\n",
    "        '-09-': ['Sep', '8e','ep', 'Sp', 'Seo', 'Sop', '3ep', 'So', 'Sen', 'Sco', 'Sap', 'Se0','Scp','S0p', '5eP', '5op', 'en', '0p', 'S60'],\n",
    "        '-10-': ['Oct', 'oct', '0c', 'Oc','ct','Ot','t','6ct','Qct','Ocf','0ot','Oo','Ocl','0ct','Oot','Odt','Cct','Oet','5ct','00t','Act'],\n",
    "        '-11-': ['Nov', 'NOV' 'No', 'ov', 'N', 'Nv', 'oV', 'Noy','NoV','Jov','Nwv', 'Ncv', 'N6v'],\n",
    "        '-12-': ['Dec', '0ec','Jec', 'De', 'Dc', 'ec', 'Doc', 'Dac', 'Oe', 'Deo', 'DoC', 'DC','eC','D6','D6c','6c']\n",
    "    }\n",
    "\n",
    "    mon = mon_start_end(mispelled_string)\n",
    "    if mon != None:\n",
    "        return mon\n",
    "    for month, abbreviations in month_mapping.items():\n",
    "        # Check if the mispelled_string is in the list of abbreviations\n",
    "        if mispelled_string in abbreviations:\n",
    "            return month\n",
    "    for month, abbreviations in month_mapping.items():\n",
    "        # Check if the mispelled_string is in the list of abbreviations\n",
    "        for i in range(len(abbreviations)):\n",
    "            if abbreviations[i] in mispelled_string:\n",
    "                return month  # Return the correct month name\n",
    "\n",
    "    return None"
   ]
  },
  {
   "cell_type": "code",
   "execution_count": null,
   "metadata": {
    "id": "jH208vQ6lKT9"
   },
   "outputs": [],
   "source": [
    "def mon_corr(month):\n",
    "    try:\n",
    "        key = month\n",
    "        if len(key) >=1:\n",
    "            month = convert_mispelled_string_to_month(key)\n",
    "            if month == None:\n",
    "                month = \"NA\"\n",
    "                return month\n",
    "            else:\n",
    "                return month\n",
    "        else:\n",
    "            month = \"NA\"\n",
    "            return month\n",
    "    except:\n",
    "        month = \"NA\"\n",
    "        return month"
   ]
  },
  {
   "cell_type": "code",
   "execution_count": null,
   "metadata": {
    "colab": {
     "base_uri": "https://localhost:8080/",
     "height": 35
    },
    "id": "G5wCOyKRzDiC",
    "outputId": "e715af92-326c-45e0-8d49-e45b9c22dadb"
   },
   "outputs": [],
   "source": [
    "mon_corr('111')"
   ]
  },
  {
   "cell_type": "code",
   "execution_count": null,
   "metadata": {
    "id": "5ihiuuWhlKRq"
   },
   "outputs": [],
   "source": [
    "def day_corr(day):\n",
    "    string = day\n",
    "    replacements = [\n",
    "        (\"T\", \"1\"), (\"O\", \"0\"), (\"o\", \"0\"), (\"Q\", \"0\"), (\"C\", \"0\"), (\"B\", \"8\"), (\"Z\", \"2\"), (\"U\", \"0\"), (\"n\", \"0\"),\n",
    "        (\"l\", \"1\"), (\"P\", \"2\"), (\"I\", \"1\"), (\"s\", \"8\"), (\"t\", \"1\")\n",
    "    ]\n",
    "\n",
    "    result = reduce(lambda x, y: x.replace(y[0], y[1]), replacements, string)\n",
    "    return result"
   ]
  },
  {
   "cell_type": "code",
   "execution_count": null,
   "metadata": {
    "id": "MrjeKO4GrGYB"
   },
   "outputs": [],
   "source": [
    "def year_corr(string):\n",
    "\n",
    "    try:\n",
    "        zero = [\"0\",\"C\",\"c\",\"O\",\"o\",\"D\"]\n",
    "        new_yr = \"\"\n",
    "        temp =\"\"\n",
    "        my_string = string\n",
    "        if len(my_string) != 4:\n",
    "            new_yr = \"NA\"\n",
    "            return new_yr\n",
    "        a,b,c,d = my_string\n",
    "        if (my_string[1] == \"1\" or my_string[2] == \"1\"):\n",
    "            new_yr = \"NA\"\n",
    "            return new_yr\n",
    "\n",
    "        elif (a == \"1\" or b == \"9\") and (c in zero):\n",
    "            new_yr = \"NA\"\n",
    "            return new_yr\n",
    "\n",
    "        elif not (my_string[1] == \"1\" or my_string[2] == \"1\"):\n",
    "            # if not my_string[:2].isdigit():\n",
    "            if my_string[-2:].isdigit():\n",
    "                if (my_string[-2:] > \"23\"):\n",
    "                    new_yr = \"19\" + my_string[-2:]\n",
    "                    return new_yr\n",
    "                elif my_string[-2:] < \"10\" and my_string[1]!=\"2\"::\n",
    "                    new_yr = \"20\" + my_string[-2:]\n",
    "                    return new_yr\n",
    "                else:\n",
    "                    new_yr = \"NA\"\n",
    "                    return new_yr\n",
    "            else:\n",
    "                if c == 't':    c = '6'\n",
    "                if c == 'g':    c = '9'\n",
    "                if d == 'a':    d = '8'\n",
    "                if d == 'g':    d = '9'\n",
    "                if a == 'j' or a == 'i' or a == 'I':    a = '1'\n",
    "                if a == '1':    b = '9'\n",
    "                if a == '2':    b = '0'\n",
    "                if b == '9':    a = '1'\n",
    "                if b == '0' and (c+d) < '10' :    a = '2'\n",
    "                if b == '0' and c == 'D':   c = '0'\n",
    "                if c == 'Q' and b != '0':    c = '9'\n",
    "                if c == 'Q' and b == '0':    c = '0'\n",
    "                if c == 'C' and b == '0':    c = '0'\n",
    "                if c == 'c' and b == '0':    c = '0'\n",
    "                if c == 'D':    c == '0'\n",
    "                if c == 'B' or c == 'x':    c == '8'\n",
    "                if d == 'D':    d == '0'\n",
    "                if d == 'B':    d == '8'\n",
    "                if d == 'C' or d == 'c':    d = '0'\n",
    "                if d == 'i' or d == 'I' or d == 'T':    d = '1'\n",
    "\n",
    "                temp = c+d\n",
    "                if temp.isdigit():\n",
    "                    if (temp > \"23\"):\n",
    "                        new_yr = \"19\" + temp\n",
    "                        return new_yr\n",
    "                    elif temp < \"10\":\n",
    "                        new_yr = \"20\" + temp\n",
    "                        return new_yr\n",
    "                else:\n",
    "                    new_yr = \"NA\"\n",
    "                    return new_yr\n",
    "    except:\n",
    "        new_yr = \"NA\"\n",
    "        return new_yr"
   ]
  },
  {
   "cell_type": "code",
   "execution_count": null,
   "metadata": {
    "id": "BWuFUyqcrGVm"
   },
   "outputs": [],
   "source": [
    "def year_cor(year =''):\n",
    "    try:\n",
    "        string = year\n",
    "        # temp = \"\"\n",
    "        if (string.isdigit()) and (string > \"1920\") and (string < \"2008\"):\n",
    "            mod_year = string\n",
    "        else:\n",
    "            year = year_corr(string)\n",
    "\n",
    "            mod_year = year\n",
    "    except:\n",
    "        mod_year = \"NA\"\n",
    "\n",
    "    return mod_year"
   ]
  },
  {
   "cell_type": "code",
   "execution_count": null,
   "metadata": {
    "id": "Cgcuy9VKrGQm"
   },
   "outputs": [],
   "source": [
    "def eight_dig(string):\n",
    "    if string[1] == \"O\":    df[\"DOB_Corr\"][i] = \"NA\"\n",
    "    elif"
   ]
  },
  {
   "cell_type": "code",
   "execution_count": null,
   "metadata": {
    "id": "JBYHgvEIlKO0"
   },
   "outputs": [],
   "source": [
    "def dob_cor(dob):\n",
    "    try:\n",
    "        string = dob\n",
    "\n",
    "        day = string[:2]\n",
    "        month = string[2:-4]\n",
    "        year = string[-4:]\n",
    "\n",
    "        month = mon_corr(month)\n",
    "        day = day_corr(day)\n",
    "        year = year_cor(year)\n",
    "\n",
    "        if (len(string) <=8) and (string[1] == \"O\"):\n",
    "            dob_corr = \"NA\"\n",
    "\n",
    "        elif day.isdigit() and year.isdigit() and (month != \"ND\" and month != \"NA\"):\n",
    "            a,b = str(day)\n",
    "            if (a+b) > \"31\":\n",
    "                if a == \"3\":\n",
    "                    day = \"0\"+b\n",
    "                    dob_corr = year + month + day\n",
    "                elif a == \"9\":\n",
    "                    day = \"0\"+b\n",
    "                    dob_corr = year + month + day\n",
    "                elif a == \"7\":\n",
    "                    day = \"2\"+b\n",
    "                    dob_corr = year + month + day\n",
    "            elif (a+b) <= \"00\":\n",
    "                dob_corr = \"NA\"\n",
    "            else:\n",
    "                dob_corr = year + month + day\n",
    "        else:\n",
    "            dob_corr = \"NA\"\n",
    "    except:\n",
    "        dob_corr = \"NA\"\n",
    "    return dob_corr"
   ]
  },
  {
   "cell_type": "code",
   "execution_count": null,
   "metadata": {
    "id": "YPyxUtrJlKJY"
   },
   "outputs": [],
   "source": [
    "def nid_cor(nid):\n",
    "    string = nid\n",
    "    string = ''.join(map(lambda x: x.replace(\"U\", \"0\").replace(\"O\", \"0\").replace(\"o\", \"0\").replace(\"/\", \"7\").replace(\"G\", \"6\"), string))\n",
    "    if string.isdigit():\n",
    "        return string\n",
    "    return 'NA'"
   ]
  },
  {
   "cell_type": "code",
   "execution_count": null,
   "metadata": {
    "id": "2iVoN-UClJ-M"
   },
   "outputs": [],
   "source": [
    "def main(url):\n",
    "    nid, dob, nid_conf, dob_conf = nid_ocr(url)\n",
    "    nid_corr = nid_cor(nid)\n",
    "    try:\n",
    "        formatted_date = convert_date(dob) #\"NA\"\n",
    "    except:\n",
    "        formatted_date = dob_cor(dob)\n",
    "\n",
    "    if nid_corr == 'NA' or formatted_date == 'NA':\n",
    "        print(\"Give a clear image\")\n",
    "\n",
    "    else:\n",
    "        return nid_corr, nid_conf, formatted_date, dob_conf\n"
   ]
  },
  {
   "cell_type": "code",
   "execution_count": null,
   "metadata": {
    "colab": {
     "base_uri": "https://localhost:8080/"
    },
    "id": "CHkQcumXlJ7M",
    "outputId": "1e269b92-e45b-4e1a-c3c0-54f3a356cf9d"
   },
   "outputs": [],
   "source": [
    "# main(\"give image link here\")"
   ]
  },
  {
   "cell_type": "code",
   "execution_count": null,
   "metadata": {
    "id": "MtsNXHxr2hwi"
   },
   "outputs": [],
   "source": []
  }
 ],
 "metadata": {
  "accelerator": "GPU",
  "colab": {
   "gpuType": "T4",
   "machine_shape": "hm",
   "provenance": []
  },
  "kernelspec": {
   "display_name": "Python 3 (ipykernel)",
   "language": "python",
   "name": "python3"
  },
  "language_info": {
   "codemirror_mode": {
    "name": "ipython",
    "version": 3
   },
   "file_extension": ".py",
   "mimetype": "text/x-python",
   "name": "python",
   "nbconvert_exporter": "python",
   "pygments_lexer": "ipython3",
   "version": "3.11.5"
  }
 },
 "nbformat": 4,
 "nbformat_minor": 1
}
